{
 "cells": [
  {
   "cell_type": "markdown",
   "metadata": {},
   "source": [
    "# 2021J TMA02 Question 3 (20 marks)"
   ]
  },
  {
   "cell_type": "markdown",
   "metadata": {},
   "source": [
    "* **Name**: Mihaly Zsigo\n",
    "* **PI**: F2679875"
   ]
  },
  {
   "cell_type": "code",
   "execution_count": 1,
   "metadata": {},
   "outputs": [],
   "source": [
    "import numpy as np\n",
    "\n",
    "import matplotlib as mpl\n",
    "import matplotlib.pyplot as plt\n",
    "%matplotlib inline\n",
    "\n",
    "from sklearn import tree\n",
    "from sklearn import metrics"
   ]
  },
  {
   "cell_type": "markdown",
   "metadata": {},
   "source": [
    "Analysis of the sample being investigated."
   ]
  },
  {
   "cell_type": "code",
   "execution_count": 2,
   "metadata": {
    "colab": {
     "base_uri": "https://localhost:8080/",
     "height": 434
    },
    "id": "NpdAQwUICSIE",
    "outputId": "fb6a6d83-ff91-48cd-ffde-5fb023e8aac8"
   },
   "outputs": [],
   "source": [
    "sample_properties = np.array([1.51934,13.64,3.54,0.75,72.65,0.16,8.89,0.15,0.24]).reshape(1,-1)"
   ]
  },
  {
   "cell_type": "markdown",
   "metadata": {},
   "source": [
    "Extract the column names from a data file."
   ]
  },
  {
   "cell_type": "code",
   "execution_count": 3,
   "metadata": {},
   "outputs": [
    {
     "data": {
      "text/plain": [
       "['Refractive index',\n",
       " 'Sodium Na',\n",
       " 'Magnesium Mg',\n",
       " 'Aluminium Al',\n",
       " 'Silicon Si',\n",
       " 'Potassium K',\n",
       " 'Calcium Ca',\n",
       " 'Barium Ba',\n",
       " 'Iron Fe']"
      ]
     },
     "execution_count": 3,
     "metadata": {},
     "output_type": "execute_result"
    }
   ],
   "source": [
    "with open('glass_testing.csv') as f:\n",
    "    column_names = [n.strip('\"') for n in f.readline().strip().split(',')[:-1]]\n",
    "column_names"
   ]
  },
  {
   "cell_type": "markdown",
   "metadata": {},
   "source": [
    "# Part a (5 marks)"
   ]
  },
  {
   "cell_type": "markdown",
   "metadata": {},
   "source": [
    "Load the training and testing data into numpy arrays. \n",
    "\n",
    "The training data is in the file `glass_training.csv` and the testing data is in the file `glass_testing.csv`. Both files have identical structure. The first row of the file contains the column names. Each subsequent row represents one sample of glass, with one type of feature per column. The final column is the correct classification for the samples in the data file.\n",
    "\n",
    "There is no missing data in either file.\n",
    "\n",
    "You should load the data into a total of _four_ numpy arrays, named `X_train`, `y_train`, `X_test`, and `y_test`. The `X_` arrays should contain the features for each sample and the `y_` arrays should contain the classifications. \n",
    "\n",
    "When you have loaded the data into the arrays, show the shape of each array. "
   ]
  },
  {
   "cell_type": "code",
   "execution_count": 4,
   "metadata": {},
   "outputs": [],
   "source": [
    "# Load data from glass_training.csv\n",
    "X_train = np.genfromtxt('glass_training.csv', skip_header = 1, delimiter = ',', usecols=range(0,9), dtype = 'float32')\n",
    "y_train = np.genfromtxt('glass_training.csv', skip_header = 1, delimiter = ',', usecols=-1, dtype = 'int')\n",
    "\n",
    "# Load data from glass_testing.csv\n",
    "X_test = np.genfromtxt('glass_testing.csv', skip_header = 1, delimiter = ',', usecols=range(0,9), dtype = 'float32')\n",
    "y_test = np.genfromtxt('glass_testing.csv', skip_header = 1, delimiter = ',', usecols=-1, dtype = 'int')\n"
   ]
  },
  {
   "cell_type": "code",
   "execution_count": 5,
   "metadata": {},
   "outputs": [
    {
     "data": {
      "text/plain": [
       "((169, 9), (169,))"
      ]
     },
     "execution_count": 5,
     "metadata": {},
     "output_type": "execute_result"
    }
   ],
   "source": [
    "# The shape of the training arrays\n",
    "X_train.shape, y_train.shape"
   ]
  },
  {
   "cell_type": "code",
   "execution_count": 6,
   "metadata": {},
   "outputs": [
    {
     "data": {
      "text/plain": [
       "((45, 9), (45,))"
      ]
     },
     "execution_count": 6,
     "metadata": {},
     "output_type": "execute_result"
    }
   ],
   "source": [
    "# The shape of the testing arrays\n",
    "X_test.shape, y_test.shape"
   ]
  },
  {
   "cell_type": "markdown",
   "metadata": {},
   "source": [
    "# Part b (8 marks)"
   ]
  },
  {
   "cell_type": "markdown",
   "metadata": {},
   "source": [
    "Create a decision tree classifier and fit it to the training data. The tree should use the \"entropy\" criterion when deciding on how to fit the tree to the data.\n",
    "\n",
    "Evaluate the tree on both the training and test data.\n",
    "\n",
    "Display the tree's depth and number of leaves. Give a graphical representation of the tree."
   ]
  },
  {
   "cell_type": "code",
   "execution_count": 7,
   "metadata": {},
   "outputs": [
    {
     "data": {
      "text/plain": [
       "DecisionTreeClassifier(criterion='entropy')"
      ]
     },
     "execution_count": 7,
     "metadata": {},
     "output_type": "execute_result"
    }
   ],
   "source": [
    "# Create a decision tree classifier using the \"entropy\" criterion, and fit it to the training data\n",
    "model = tree.DecisionTreeClassifier(criterion='entropy')\n",
    "model.fit(X_train, y_train)"
   ]
  },
  {
   "cell_type": "code",
   "execution_count": 8,
   "metadata": {},
   "outputs": [
    {
     "name": "stdout",
     "output_type": "stream",
     "text": [
      "The tree's accuracy on the training data is: 1.0\n"
     ]
    }
   ],
   "source": [
    "# Accuracy on training data\n",
    "print(\"The tree's accuracy on the training data is:\", model.score(X_train, y_train))"
   ]
  },
  {
   "cell_type": "code",
   "execution_count": 9,
   "metadata": {},
   "outputs": [
    {
     "name": "stdout",
     "output_type": "stream",
     "text": [
      "The tree's accuracy on the testing data is: 0.7555555555555555\n"
     ]
    }
   ],
   "source": [
    "# Accuracy on test data\n",
    "print(\"The tree's accuracy on the testing data is:\", model.score(X_test, y_test))"
   ]
  },
  {
   "cell_type": "code",
   "execution_count": 10,
   "metadata": {},
   "outputs": [
    {
     "name": "stdout",
     "output_type": "stream",
     "text": [
      "              precision    recall  f1-score   support\n",
      "\n",
      "           1       0.80      0.80      0.80        15\n",
      "           2       0.78      0.74      0.76        19\n",
      "           3       0.33      0.33      0.33         3\n",
      "           5       0.75      0.75      0.75         4\n",
      "           6       1.00      1.00      1.00         1\n",
      "           7       0.75      1.00      0.86         3\n",
      "\n",
      "    accuracy                           0.76        45\n",
      "   macro avg       0.74      0.77      0.75        45\n",
      "weighted avg       0.76      0.76      0.75        45\n",
      "\n"
     ]
    }
   ],
   "source": [
    "# Predict the classifications from the test data and report on some metrics of the predictions\n",
    "y_pred = model.predict(X_test)\n",
    "print(metrics.classification_report(y_pred, y_test))"
   ]
  },
  {
   "cell_type": "code",
   "execution_count": 11,
   "metadata": {},
   "outputs": [
    {
     "name": "stdout",
     "output_type": "stream",
     "text": [
      "The depth of the decision tree is 9\n"
     ]
    }
   ],
   "source": [
    "# Tree's depth\n",
    "print(\"The depth of the decision tree is\", model.get_depth())"
   ]
  },
  {
   "cell_type": "code",
   "execution_count": 12,
   "metadata": {},
   "outputs": [
    {
     "name": "stdout",
     "output_type": "stream",
     "text": [
      "The number of leaves are 38\n"
     ]
    }
   ],
   "source": [
    "# The number of leaves\n",
    "print(\"The number of leaves are\", model.get_n_leaves())"
   ]
  },
  {
   "cell_type": "code",
   "execution_count": 13,
   "metadata": {},
   "outputs": [
    {
     "name": "stdout",
     "output_type": "stream",
     "text": [
      "The graphical representation of the tree\n"
     ]
    },
    {
     "data": {
      "image/png": "[encoded data removed]",
      "text/plain": [
       "<Figure size 1080x864 with 1 Axes>"
      ]
     },
     "metadata": {
      "needs_background": "light"
     },
     "output_type": "display_data"
    }
   ],
   "source": [
    "# Graphical representation of the tree\n",
    "print(\"The graphical representation of the tree\")\n",
    "plt.figure(figsize=(15, 12))\n",
    "tree.plot_tree(model,\n",
    "              feature_names=column_names,\n",
    "              node_ids=True,\n",
    "              );"
   ]
  },
  {
   "cell_type": "markdown",
   "metadata": {},
   "source": [
    "# Part c (4 marks)"
   ]
  },
  {
   "cell_type": "markdown",
   "metadata": {},
   "source": [
    "Decision trees that perform perfectly on the training data can be overfitted. You should investigate if limiting the depth of the decision tree has an effect on its performance on the test data. Find the smallest depth of decision tree that can be used while still maintaining an accuracy of at least 90% on the training data. You should then evaluate this decision tree on the test data and compare it with the decision tree you created in part (b) above.\n",
    "\n",
    "Your exploration should use a systematic approach to identify the correct depth of the tree."
   ]
  },
  {
   "cell_type": "code",
   "execution_count": 14,
   "metadata": {},
   "outputs": [
    {
     "name": "stdout",
     "output_type": "stream",
     "text": [
      "With depth of: 9 the decision tree has accuracy of: 1.0\n",
      "With depth of: 8 the decision tree has accuracy of: 0.9822485207100592\n",
      "With depth of: 7 the decision tree has accuracy of: 0.9763313609467456\n",
      "With depth of: 6 the decision tree has accuracy of: 0.9349112426035503\n",
      "\n",
      "The smallest depth to maintain an accuracy of at least 90% on the training data is 6\n"
     ]
    }
   ],
   "source": [
    "# Find the smallest depth to maintain an accuracy of at least 90% on the training data\n",
    "n=9\n",
    "while True:\n",
    "    model1 = tree.DecisionTreeClassifier(criterion='entropy', max_depth=n)\n",
    "    model1.fit(X_train, y_train)\n",
    "    if model1.score(X_train, y_train) < 0.9:\n",
    "        n += 1\n",
    "        break\n",
    "    else:\n",
    "        print(\"With depth of:\", n, \"the decision tree has accuracy of:\", model1.score(X_train, y_train))\n",
    "        n -= 1\n",
    "\n",
    "print(\"\\nThe smallest depth to maintain an accuracy of at least 90% on the training data is\", n)"
   ]
  },
  {
   "cell_type": "code",
   "execution_count": 15,
   "metadata": {},
   "outputs": [
    {
     "name": "stdout",
     "output_type": "stream",
     "text": [
      "The accuracy of the original model on the testing data is: 0.76\n",
      "The accuracy of the new model on the testing data is: 0.71\n"
     ]
    }
   ],
   "source": [
    "# Display the accuracy of the two models\n",
    "model1 = tree.DecisionTreeClassifier(criterion='entropy', max_depth=n)\n",
    "model1.fit(X_train, y_train)\n",
    "print(\"The accuracy of the original model on the testing data is:\", str(round(model.score(X_test, y_test),2)))\n",
    "print(\"The accuracy of the new model on the testing data is:\", str(round(model1.score(X_test, y_test),2)))"
   ]
  },
  {
   "cell_type": "code",
   "execution_count": 16,
   "metadata": {},
   "outputs": [
    {
     "name": "stdout",
     "output_type": "stream",
     "text": [
      "The new, smaller model is 5.88 % less effective on the testing data, than the original model.\n"
     ]
    }
   ],
   "source": [
    "# Calculate the performance difference between the two decision trees\n",
    "result = str(round(100-(model1.score(X_test, y_test)/model.score(X_test, y_test)*100),2))\n",
    "print(\"The new, smaller model is\", result,\"% less effective on the testing data, than the original model.\")"
   ]
  },
  {
   "cell_type": "markdown",
   "metadata": {},
   "source": [
    "# Part d (3 marks)"
   ]
  },
  {
   "cell_type": "markdown",
   "metadata": {},
   "source": [
    "Use both the full-depth decision tree and the depth-limited decision tree to predict the type of glass from the collected sample (stored in `sample_properties`).\n",
    "\n",
    "Do these two decision trees agree on the type of glass?\n",
    "\n",
    "Recommend whether either decision tree is suitable to use in a police investigation."
   ]
  },
  {
   "cell_type": "code",
   "execution_count": 17,
   "metadata": {},
   "outputs": [
    {
     "name": "stdout",
     "output_type": "stream",
     "text": [
      "The original model's prediction of the data held in sample_properties is type [3]\n",
      "The smaller model's prediction of the data held in sample_properties is type [1]\n"
     ]
    }
   ],
   "source": [
    "# Use the original model to predict the glass type of the sample_properties\n",
    "y_pred1 = model.predict(sample_properties)\n",
    "print(\"The original model's prediction of the data held in sample_properties is type\", y_pred1)\n",
    "\n",
    "# Use the smaller model to predict the glass type of the sample_properties\n",
    "y_pred2 = model1.predict(sample_properties)\n",
    "print(\"The smaller model's prediction of the data held in sample_properties is type\", y_pred2)"
   ]
  },
  {
   "cell_type": "markdown",
   "metadata": {},
   "source": [
    "### The two decision trees return different predictions of the data held in the sample_properties array."
   ]
  },
  {
   "cell_type": "markdown",
   "metadata": {},
   "source": [
    "### None of the two decision trees are accurate enough to be fully relied on during a police investigation, but their provided results could help to stir the investigation process to the right direction."
   ]
  },
  {
   "cell_type": "code",
   "execution_count": null,
   "metadata": {},
   "outputs": [],
   "source": []
  }
 ],
 "metadata": {
  "colab": {
   "name": "Untitled11.ipynb",
   "provenance": []
  },
  "kernelspec": {
   "display_name": "Python 3",
   "language": "python",
   "name": "python3"
  },
  "language_info": {
   "codemirror_mode": {
    "name": "ipython",
    "version": 3
   },
   "file_extension": ".py",
   "mimetype": "text/x-python",
   "name": "python",
   "nbconvert_exporter": "python",
   "pygments_lexer": "ipython3",
   "version": "3.6.9"
  }
 },
 "nbformat": 4,
 "nbformat_minor": 1
}
